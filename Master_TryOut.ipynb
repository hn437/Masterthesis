{
 "nbformat": 4,
 "nbformat_minor": 0,
 "metadata": {
  "colab": {
   "provenance": [],
   "authorship_tag": "ABX9TyM04IAjj71lPC/CdNNqm97a",
   "include_colab_link": true
  },
  "kernelspec": {
   "name": "python3",
   "display_name": "Python 3"
  },
  "language_info": {
   "name": "python"
  }
 },
 "cells": [
  {
   "cell_type": "markdown",
   "metadata": {
    "id": "view-in-github",
    "colab_type": "text"
   },
   "source": [
    "<a href=\"https://colab.research.google.com/github/hn437/Masterthesis/blob/main/Master_TryOut.ipynb\" target=\"_parent\"><img src=\"https://colab.research.google.com/assets/colab-badge.svg\" alt=\"Open In Colab\"/></a>"
   ]
  },
  {
   "cell_type": "markdown",
   "source": [
    "Imports & Initialisations"
   ],
   "metadata": {
    "id": "0Xdc-kAXHfeG"
   }
  },
  {
   "cell_type": "code",
   "execution_count": 3,
   "metadata": {
    "colab": {
     "base_uri": "https://localhost:8080/"
    },
    "id": "toMmZbzu9gED",
    "outputId": "97985995-8242-4c30-cbdb-ac75316b25a9"
   },
   "outputs": [
    {
     "name": "stdout",
     "output_type": "stream",
     "text": [
      "Folium version: 0.14.0\n"
     ]
    },
    {
     "data": {
      "text/plain": "<IPython.core.display.HTML object>",
      "text/html": "<p>To authorize access needed by Earth Engine, open the following\n        URL in a web browser and follow the instructions:</p>\n        <p><a href=https://code.earthengine.google.com/client-auth?scopes=https%3A//www.googleapis.com/auth/earthengine%20https%3A//www.googleapis.com/auth/devstorage.full_control&request_id=Q2Xc6684A4va94hLQnSVDe47UX7NZVUR9a8A0FBRw_E&tc=GmH-kRoEoUxdCS66m9Bu8ni-3OJ3LfFUcczyb73HoUA&cc=JwylOQT2eBH0QGOb472oOfwi9yu2aj23KOwR7iioSk4>https://code.earthengine.google.com/client-auth?scopes=https%3A//www.googleapis.com/auth/earthengine%20https%3A//www.googleapis.com/auth/devstorage.full_control&request_id=Q2Xc6684A4va94hLQnSVDe47UX7NZVUR9a8A0FBRw_E&tc=GmH-kRoEoUxdCS66m9Bu8ni-3OJ3LfFUcczyb73HoUA&cc=JwylOQT2eBH0QGOb472oOfwi9yu2aj23KOwR7iioSk4</a></p>\n        <p>The authorization workflow will generate a code, which you should paste in the box below.</p>\n        "
     },
     "metadata": {},
     "output_type": "display_data"
    },
    {
     "name": "stdout",
     "output_type": "stream",
     "text": [
      "\n",
      "Successfully saved authorization token.\n"
     ]
    }
   ],
   "source": [
    "import ee\n",
    "import folium\n",
    "\n",
    "print('Folium version: ' + folium.__version__)\n",
    "\n",
    "ee.Authenticate()\n",
    "ee.Initialize()\n",
    "\n"
   ]
  },
  {
   "cell_type": "markdown",
   "source": [
    "Add Functions for Folium"
   ],
   "metadata": {
    "id": "2ggSSFzoI4CA"
   }
  },
  {
   "cell_type": "code",
   "source": [
    "# Define a method for displaying Earth Engine image tiles to folium map.\n",
    "def add_ee_layer(self, ee_image_object, vis_params, name):\n",
    "  map_id_dict = ee.Image(ee_image_object).getMapId(vis_params)\n",
    "  folium.raster_layers.TileLayer(\n",
    "    tiles = map_id_dict['tile_fetcher'].url_format,\n",
    "    attr = \"Map Data © Google Earth Engine\",\n",
    "    name = name,\n",
    "    overlay = True,\n",
    "    control = True\n",
    "  ).add_to(self)\n",
    "\n",
    "# Add EE drawing method to folium.\n",
    "folium.Map.add_ee_layer = add_ee_layer\n"
   ],
   "metadata": {
    "id": "9lyzb1JMI_NM"
   },
   "execution_count": 4,
   "outputs": []
  },
  {
   "cell_type": "markdown",
   "source": [
    "Settings"
   ],
   "metadata": {
    "id": "6FUpItBxI_4O"
   }
  },
  {
   "cell_type": "code",
   "source": [
    "# Set Image Collection and take first Image\n",
    "dataset = ee.ImageCollection(\"ESA/WorldCover/v100\")\n",
    "exampleImg = dataset.first()\n",
    "\n",
    "# Set visualization parameters.\n",
    "vis_params = {'bands':['Map'],}\n",
    "\n",
    "# Create a folium map object.\n",
    "my_map = folium.Map(location=[49.415, 8.675], zoom_start=15, height=1000)\n",
    "\n",
    "# Add the exampleImg model to the map object.\n",
    "my_map.add_ee_layer(exampleImg, vis_params, 'WorldCover')\n",
    "\n",
    "# Add a layer control panel to the map.\n",
    "my_map.add_child(folium.LayerControl())\n",
    "\n",
    "# Display the map.\n",
    "display(my_map)\n"
   ],
   "metadata": {
    "colab": {
     "base_uri": "https://localhost:8080/",
     "height": 1000
    },
    "id": "EF2SaWEuHbKL",
    "outputId": "b6686876-113e-47bb-823d-e14bf120a8dc"
   },
   "execution_count": 5,
   "outputs": [
    {
     "data": {
      "text/plain": "<folium.folium.Map at 0x7fe73ff88fa0>",
      "text/html": "<div style=\"width:100%;\"><div style=\"position:relative;width:100%;height:0;padding-bottom:60%;\"><span style=\"color:#565656\">Make this Notebook Trusted to load map: File -> Trust Notebook</span><iframe srcdoc=\"&lt;!DOCTYPE html&gt;\n&lt;html&gt;\n&lt;head&gt;\n    \n    &lt;meta http-equiv=&quot;content-type&quot; content=&quot;text/html; charset=UTF-8&quot; /&gt;\n    \n        &lt;script&gt;\n            L_NO_TOUCH = false;\n            L_DISABLE_3D = false;\n        &lt;/script&gt;\n    \n    &lt;style&gt;html, body {width: 100%;height: 100%;margin: 0;padding: 0;}&lt;/style&gt;\n    &lt;style&gt;#map {position:absolute;top:0;bottom:0;right:0;left:0;}&lt;/style&gt;\n    &lt;script src=&quot;https://cdn.jsdelivr.net/npm/leaflet@1.9.3/dist/leaflet.js&quot;&gt;&lt;/script&gt;\n    &lt;script src=&quot;https://code.jquery.com/jquery-1.12.4.min.js&quot;&gt;&lt;/script&gt;\n    &lt;script src=&quot;https://cdn.jsdelivr.net/npm/bootstrap@5.2.2/dist/js/bootstrap.bundle.min.js&quot;&gt;&lt;/script&gt;\n    &lt;script src=&quot;https://cdnjs.cloudflare.com/ajax/libs/Leaflet.awesome-markers/2.0.2/leaflet.awesome-markers.js&quot;&gt;&lt;/script&gt;\n    &lt;link rel=&quot;stylesheet&quot; href=&quot;https://cdn.jsdelivr.net/npm/leaflet@1.9.3/dist/leaflet.css&quot;/&gt;\n    &lt;link rel=&quot;stylesheet&quot; href=&quot;https://cdn.jsdelivr.net/npm/bootstrap@5.2.2/dist/css/bootstrap.min.css&quot;/&gt;\n    &lt;link rel=&quot;stylesheet&quot; href=&quot;https://netdna.bootstrapcdn.com/bootstrap/3.0.0/css/bootstrap.min.css&quot;/&gt;\n    &lt;link rel=&quot;stylesheet&quot; href=&quot;https://cdn.jsdelivr.net/npm/@fortawesome/fontawesome-free@6.2.0/css/all.min.css&quot;/&gt;\n    &lt;link rel=&quot;stylesheet&quot; href=&quot;https://cdnjs.cloudflare.com/ajax/libs/Leaflet.awesome-markers/2.0.2/leaflet.awesome-markers.css&quot;/&gt;\n    &lt;link rel=&quot;stylesheet&quot; href=&quot;https://cdn.jsdelivr.net/gh/python-visualization/folium/folium/templates/leaflet.awesome.rotate.min.css&quot;/&gt;\n    \n            &lt;meta name=&quot;viewport&quot; content=&quot;width=device-width,\n                initial-scale=1.0, maximum-scale=1.0, user-scalable=no&quot; /&gt;\n            &lt;style&gt;\n                #map_5f492d7584d819f57d16c8e9c74af835 {\n                    position: relative;\n                    width: 100.0%;\n                    height: 1000.0px;\n                    left: 0.0%;\n                    top: 0.0%;\n                }\n                .leaflet-container { font-size: 1rem; }\n            &lt;/style&gt;\n        \n&lt;/head&gt;\n&lt;body&gt;\n    \n    \n            &lt;div class=&quot;folium-map&quot; id=&quot;map_5f492d7584d819f57d16c8e9c74af835&quot; &gt;&lt;/div&gt;\n        \n&lt;/body&gt;\n&lt;script&gt;\n    \n    \n            var map_5f492d7584d819f57d16c8e9c74af835 = L.map(\n                &quot;map_5f492d7584d819f57d16c8e9c74af835&quot;,\n                {\n                    center: [49.415, 8.675],\n                    crs: L.CRS.EPSG3857,\n                    zoom: 15,\n                    zoomControl: true,\n                    preferCanvas: false,\n                }\n            );\n\n            \n\n        \n    \n            var tile_layer_0ac3bcfc713e723184f7526242faffbc = L.tileLayer(\n                &quot;https://{s}.tile.openstreetmap.org/{z}/{x}/{y}.png&quot;,\n                {&quot;attribution&quot;: &quot;Data by \\u0026copy; \\u003ca target=\\&quot;_blank\\&quot; href=\\&quot;http://openstreetmap.org\\&quot;\\u003eOpenStreetMap\\u003c/a\\u003e, under \\u003ca target=\\&quot;_blank\\&quot; href=\\&quot;http://www.openstreetmap.org/copyright\\&quot;\\u003eODbL\\u003c/a\\u003e.&quot;, &quot;detectRetina&quot;: false, &quot;maxNativeZoom&quot;: 18, &quot;maxZoom&quot;: 18, &quot;minZoom&quot;: 0, &quot;noWrap&quot;: false, &quot;opacity&quot;: 1, &quot;subdomains&quot;: &quot;abc&quot;, &quot;tms&quot;: false}\n            ).addTo(map_5f492d7584d819f57d16c8e9c74af835);\n        \n    \n            var tile_layer_6c7835bdaf171be49f9f10803a8da25f = L.tileLayer(\n                &quot;https://earthengine.googleapis.com/v1alpha/projects/earthengine-legacy/maps/fd4dc688da1707d15168fd051218b556-be056ee04cc71e70b08f54c0afd83f4d/tiles/{z}/{x}/{y}&quot;,\n                {&quot;attribution&quot;: &quot;Map Data \\u00a9 Google Earth Engine&quot;, &quot;detectRetina&quot;: false, &quot;maxNativeZoom&quot;: 18, &quot;maxZoom&quot;: 18, &quot;minZoom&quot;: 0, &quot;noWrap&quot;: false, &quot;opacity&quot;: 1, &quot;subdomains&quot;: &quot;abc&quot;, &quot;tms&quot;: false}\n            ).addTo(map_5f492d7584d819f57d16c8e9c74af835);\n        \n    \n            var layer_control_f923e78aad485f515081edaf86967d2b = {\n                base_layers : {\n                    &quot;openstreetmap&quot; : tile_layer_0ac3bcfc713e723184f7526242faffbc,\n                },\n                overlays :  {\n                    &quot;WorldCover&quot; : tile_layer_6c7835bdaf171be49f9f10803a8da25f,\n                },\n            };\n            L.control.layers(\n                layer_control_f923e78aad485f515081edaf86967d2b.base_layers,\n                layer_control_f923e78aad485f515081edaf86967d2b.overlays,\n                {&quot;autoZIndex&quot;: true, &quot;collapsed&quot;: true, &quot;position&quot;: &quot;topright&quot;}\n            ).addTo(map_5f492d7584d819f57d16c8e9c74af835);\n        \n&lt;/script&gt;\n&lt;/html&gt;\" style=\"position:absolute;width:100%;height:100%;left:0;top:0;border:none !important;\" allowfullscreen webkitallowfullscreen mozallowfullscreen></iframe></div></div>"
     },
     "metadata": {},
     "output_type": "display_data"
    }
   ]
  },
  {
   "cell_type": "code",
   "execution_count": null,
   "outputs": [],
   "source": [
    "print(dataset)"
   ],
   "metadata": {
    "collapsed": false
   }
  }
 ]
}
