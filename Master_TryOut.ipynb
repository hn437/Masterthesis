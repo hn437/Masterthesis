{
 "nbformat": 4,
 "nbformat_minor": 0,
 "metadata": {
  "colab": {
   "provenance": [],
   "authorship_tag": "ABX9TyM04IAjj71lPC/CdNNqm97a",
   "include_colab_link": true
  },
  "kernelspec": {
   "name": "python3",
   "display_name": "Python 3"
  },
  "language_info": {
   "name": "python"
  }
 },
 "cells": [
  {
   "cell_type": "markdown",
   "metadata": {
    "id": "view-in-github",
    "colab_type": "text"
   },
   "source": [
    "<a href=\"https://colab.research.google.com/github/hn437/Masterthesis/blob/main/Master_TryOut.ipynb\" target=\"_parent\"><img src=\"https://colab.research.google.com/assets/colab-badge.svg\" alt=\"Open In Colab\"/></a>"
   ]
  },
  {
   "cell_type": "markdown",
   "source": [
    "Imports & Initialisations"
   ],
   "metadata": {
    "id": "0Xdc-kAXHfeG"
   }
  },
  {
   "cell_type": "code",
   "execution_count": 15,
   "metadata": {
    "colab": {
     "base_uri": "https://localhost:8080/"
    },
    "id": "toMmZbzu9gED",
    "outputId": "97985995-8242-4c30-cbdb-ac75316b25a9"
   },
   "outputs": [
    {
     "ename": "ModuleNotFoundError",
     "evalue": "No module named 'pandas'",
     "output_type": "error",
     "traceback": [
      "\u001B[0;31m---------------------------------------------------------------------------\u001B[0m",
      "\u001B[0;31mModuleNotFoundError\u001B[0m                       Traceback (most recent call last)",
      "Cell \u001B[0;32mIn[15], line 3\u001B[0m\n\u001B[1;32m      1\u001B[0m \u001B[38;5;28;01mimport\u001B[39;00m \u001B[38;5;21;01mee\u001B[39;00m\n\u001B[1;32m      2\u001B[0m \u001B[38;5;28;01mimport\u001B[39;00m \u001B[38;5;21;01mfolium\u001B[39;00m\n\u001B[0;32m----> 3\u001B[0m \u001B[38;5;28;01mimport\u001B[39;00m \u001B[38;5;21;01mpandas\u001B[39;00m\n\u001B[1;32m      6\u001B[0m \u001B[38;5;28mprint\u001B[39m(\u001B[38;5;124m'\u001B[39m\u001B[38;5;124mFolium version: \u001B[39m\u001B[38;5;124m'\u001B[39m \u001B[38;5;241m+\u001B[39m folium\u001B[38;5;241m.\u001B[39m__version__)\n\u001B[1;32m      8\u001B[0m \u001B[38;5;66;03m#ee.Authenticate()\u001B[39;00m\n",
      "\u001B[0;31mModuleNotFoundError\u001B[0m: No module named 'pandas'"
     ]
    }
   ],
   "source": [
    "import ee\n",
    "import folium\n",
    "\n",
    "\n",
    "print('Folium version: ' + folium.__version__)\n",
    "\n",
    "#ee.Authenticate()\n",
    "ee.Initialize()\n",
    "\n"
   ]
  },
  {
   "cell_type": "markdown",
   "source": [
    "Add Functions for Folium"
   ],
   "metadata": {
    "id": "2ggSSFzoI4CA"
   }
  },
  {
   "cell_type": "code",
   "source": [
    "# Define a method for displaying Earth Engine image tiles to folium map.\n",
    "def add_ee_layer(self, ee_image_object, vis_params, name):\n",
    "  map_id_dict = ee.Image(ee_image_object).getMapId(vis_params)\n",
    "  folium.raster_layers.TileLayer(\n",
    "    tiles = map_id_dict['tile_fetcher'].url_format,\n",
    "    attr = \"Map Data © Google Earth Engine\",\n",
    "    name = name,\n",
    "    overlay = True,\n",
    "    control = True\n",
    "  ).add_to(self)\n",
    "\n",
    "# Add EE drawing method to folium.\n",
    "folium.Map.add_ee_layer = add_ee_layer\n"
   ],
   "metadata": {
    "id": "9lyzb1JMI_NM"
   },
   "execution_count": 12,
   "outputs": []
  },
  {
   "cell_type": "markdown",
   "source": [
    "Settings"
   ],
   "metadata": {
    "id": "6FUpItBxI_4O"
   }
  },
  {
   "cell_type": "code",
   "source": [
    "# Set Image Collection and take first Image\n",
    "dataset = ee.ImageCollection(\"ESA/WorldCover/v100\")\n",
    "exampleImg = dataset.first()\n",
    "\n",
    "# Set visualization parameters.\n",
    "vis_params = {'bands':['Map'],}\n",
    "\n",
    "# Create a folium map object.\n",
    "my_map = folium.Map(location=[49.415, 8.675], zoom_start=15, height=1000)\n",
    "\n",
    "# Add the exampleImg model to the map object.\n",
    "my_map.add_ee_layer(exampleImg, vis_params, 'WorldCover')\n",
    "\n",
    "# Add a layer control panel to the map.\n",
    "my_map.add_child(folium.LayerControl())\n",
    "\n",
    "# Display the map.\n",
    "display(my_map)\n"
   ],
   "metadata": {
    "colab": {
     "base_uri": "https://localhost:8080/",
     "height": 1000
    },
    "id": "EF2SaWEuHbKL",
    "outputId": "b6686876-113e-47bb-823d-e14bf120a8dc"
   },
   "execution_count": 13,
   "outputs": [
    {
     "data": {
      "text/plain": "<folium.folium.Map at 0x7f3a7be66940>",
      "text/html": "<div style=\"width:100%;\"><div style=\"position:relative;width:100%;height:0;padding-bottom:60%;\"><span style=\"color:#565656\">Make this Notebook Trusted to load map: File -> Trust Notebook</span><iframe srcdoc=\"&lt;!DOCTYPE html&gt;\n&lt;html&gt;\n&lt;head&gt;\n    \n    &lt;meta http-equiv=&quot;content-type&quot; content=&quot;text/html; charset=UTF-8&quot; /&gt;\n    \n        &lt;script&gt;\n            L_NO_TOUCH = false;\n            L_DISABLE_3D = false;\n        &lt;/script&gt;\n    \n    &lt;style&gt;html, body {width: 100%;height: 100%;margin: 0;padding: 0;}&lt;/style&gt;\n    &lt;style&gt;#map {position:absolute;top:0;bottom:0;right:0;left:0;}&lt;/style&gt;\n    &lt;script src=&quot;https://cdn.jsdelivr.net/npm/leaflet@1.9.3/dist/leaflet.js&quot;&gt;&lt;/script&gt;\n    &lt;script src=&quot;https://code.jquery.com/jquery-1.12.4.min.js&quot;&gt;&lt;/script&gt;\n    &lt;script src=&quot;https://cdn.jsdelivr.net/npm/bootstrap@5.2.2/dist/js/bootstrap.bundle.min.js&quot;&gt;&lt;/script&gt;\n    &lt;script src=&quot;https://cdnjs.cloudflare.com/ajax/libs/Leaflet.awesome-markers/2.0.2/leaflet.awesome-markers.js&quot;&gt;&lt;/script&gt;\n    &lt;link rel=&quot;stylesheet&quot; href=&quot;https://cdn.jsdelivr.net/npm/leaflet@1.9.3/dist/leaflet.css&quot;/&gt;\n    &lt;link rel=&quot;stylesheet&quot; href=&quot;https://cdn.jsdelivr.net/npm/bootstrap@5.2.2/dist/css/bootstrap.min.css&quot;/&gt;\n    &lt;link rel=&quot;stylesheet&quot; href=&quot;https://netdna.bootstrapcdn.com/bootstrap/3.0.0/css/bootstrap.min.css&quot;/&gt;\n    &lt;link rel=&quot;stylesheet&quot; href=&quot;https://cdn.jsdelivr.net/npm/@fortawesome/fontawesome-free@6.2.0/css/all.min.css&quot;/&gt;\n    &lt;link rel=&quot;stylesheet&quot; href=&quot;https://cdnjs.cloudflare.com/ajax/libs/Leaflet.awesome-markers/2.0.2/leaflet.awesome-markers.css&quot;/&gt;\n    &lt;link rel=&quot;stylesheet&quot; href=&quot;https://cdn.jsdelivr.net/gh/python-visualization/folium/folium/templates/leaflet.awesome.rotate.min.css&quot;/&gt;\n    \n            &lt;meta name=&quot;viewport&quot; content=&quot;width=device-width,\n                initial-scale=1.0, maximum-scale=1.0, user-scalable=no&quot; /&gt;\n            &lt;style&gt;\n                #map_5492b75b8d2430a1dd2fa31c5b266bc7 {\n                    position: relative;\n                    width: 100.0%;\n                    height: 1000.0px;\n                    left: 0.0%;\n                    top: 0.0%;\n                }\n                .leaflet-container { font-size: 1rem; }\n            &lt;/style&gt;\n        \n&lt;/head&gt;\n&lt;body&gt;\n    \n    \n            &lt;div class=&quot;folium-map&quot; id=&quot;map_5492b75b8d2430a1dd2fa31c5b266bc7&quot; &gt;&lt;/div&gt;\n        \n&lt;/body&gt;\n&lt;script&gt;\n    \n    \n            var map_5492b75b8d2430a1dd2fa31c5b266bc7 = L.map(\n                &quot;map_5492b75b8d2430a1dd2fa31c5b266bc7&quot;,\n                {\n                    center: [49.415, 8.675],\n                    crs: L.CRS.EPSG3857,\n                    zoom: 15,\n                    zoomControl: true,\n                    preferCanvas: false,\n                }\n            );\n\n            \n\n        \n    \n            var tile_layer_a0aed7a275998a66869f9b88b0ddb965 = L.tileLayer(\n                &quot;https://{s}.tile.openstreetmap.org/{z}/{x}/{y}.png&quot;,\n                {&quot;attribution&quot;: &quot;Data by \\u0026copy; \\u003ca target=\\&quot;_blank\\&quot; href=\\&quot;http://openstreetmap.org\\&quot;\\u003eOpenStreetMap\\u003c/a\\u003e, under \\u003ca target=\\&quot;_blank\\&quot; href=\\&quot;http://www.openstreetmap.org/copyright\\&quot;\\u003eODbL\\u003c/a\\u003e.&quot;, &quot;detectRetina&quot;: false, &quot;maxNativeZoom&quot;: 18, &quot;maxZoom&quot;: 18, &quot;minZoom&quot;: 0, &quot;noWrap&quot;: false, &quot;opacity&quot;: 1, &quot;subdomains&quot;: &quot;abc&quot;, &quot;tms&quot;: false}\n            ).addTo(map_5492b75b8d2430a1dd2fa31c5b266bc7);\n        \n    \n            var tile_layer_ebad3a3395908d8eca3bd65aa9a0cfac = L.tileLayer(\n                &quot;https://earthengine.googleapis.com/v1alpha/projects/earthengine-legacy/maps/fd4dc688da1707d15168fd051218b556-d6a00d0946c57969017607b852a6ffb5/tiles/{z}/{x}/{y}&quot;,\n                {&quot;attribution&quot;: &quot;Map Data \\u00a9 Google Earth Engine&quot;, &quot;detectRetina&quot;: false, &quot;maxNativeZoom&quot;: 18, &quot;maxZoom&quot;: 18, &quot;minZoom&quot;: 0, &quot;noWrap&quot;: false, &quot;opacity&quot;: 1, &quot;subdomains&quot;: &quot;abc&quot;, &quot;tms&quot;: false}\n            ).addTo(map_5492b75b8d2430a1dd2fa31c5b266bc7);\n        \n    \n            var layer_control_8365ebe7f92cc7392ed6d421f0f378f3 = {\n                base_layers : {\n                    &quot;openstreetmap&quot; : tile_layer_a0aed7a275998a66869f9b88b0ddb965,\n                },\n                overlays :  {\n                    &quot;WorldCover&quot; : tile_layer_ebad3a3395908d8eca3bd65aa9a0cfac,\n                },\n            };\n            L.control.layers(\n                layer_control_8365ebe7f92cc7392ed6d421f0f378f3.base_layers,\n                layer_control_8365ebe7f92cc7392ed6d421f0f378f3.overlays,\n                {&quot;autoZIndex&quot;: true, &quot;collapsed&quot;: true, &quot;position&quot;: &quot;topright&quot;}\n            ).addTo(map_5492b75b8d2430a1dd2fa31c5b266bc7);\n        \n&lt;/script&gt;\n&lt;/html&gt;\" style=\"position:absolute;width:100%;height:100%;left:0;top:0;border:none !important;\" allowfullscreen webkitallowfullscreen mozallowfullscreen></iframe></div></div>"
     },
     "metadata": {},
     "output_type": "display_data"
    }
   ]
  },
  {
   "cell_type": "code",
   "execution_count": 14,
   "outputs": [
    {
     "name": "stdout",
     "output_type": "stream",
     "text": [
      "ee.ImageCollection({\n",
      "  \"functionInvocationValue\": {\n",
      "    \"functionName\": \"ImageCollection.load\",\n",
      "    \"arguments\": {\n",
      "      \"id\": {\n",
      "        \"constantValue\": \"ESA/WorldCover/v100\"\n",
      "      }\n",
      "    }\n",
      "  }\n",
      "})\n",
      "{'type': 'ImageCollection', 'bands': [], 'id': 'ESA/WorldCover/v100', 'version': 1668606593514996, 'properties': {'date_range': [1577836800000, 1609459200000], 'period': 0, 'type_name': 'ImageCollection', 'max_mirrored_version': 1634633454597615, 'keywords': ['esa', 'landcover', 'landuse', 'sentinel1-derived', 'sentinel2-derived'], 'description': '<p>The European Space Agency (ESA) WorldCover 10 m 2020 product provides a\\nglobal land cover map for 2020 at 10 m resolution based on Sentinel-1 and\\nSentinel-2 data. The WorldCover product comes with 11 land cover classes and\\nhas been generated in the framework of the ESA WorldCover project, part of the\\n5th Earth Observation Envelope Programme (EOEP-5) of the European Space Agency.</p><p>See also:</p><ul><li><a href=\"https://esa-worldcover.org\">ESA WorldCover website</a></li><li><a href=\"https://esa-worldcover.org/en/data-access\">User Manual and Validation Report</a></li></ul><p><b>Provider: <a href=\"https://esa-worldcover.org/en\">ESA/VITO/Brockmann Consult/CS/GAMMA Remote Sensing/IIASA/WUR</a></b><br><p><b>Resolution</b><br>10 meters\\n</p><p><b>Bands</b><table class=\"eecat\"><tr><th scope=\"col\">Name</th><th scope=\"col\">Description</th></tr><tr><td>Map</td><td><p>Landcover class</p></td></tr></table><p><b>Terms of Use</b><br><p>CC-BY-4.0</p><p><b>Suggested citation(s)</b><ul><li><p>A publication is under preparation.</p></li></ul><style>\\n  table.eecat {\\n  border: 1px solid black;\\n  border-collapse: collapse;\\n  font-size: 13px;\\n  }\\n  table.eecat td, tr, th {\\n  text-align: left; vertical-align: top;\\n  border: 1px solid gray; padding: 3px;\\n  }\\n  td.nobreak { white-space: nowrap; }\\n</style>', 'provider_url': 'https://esa-worldcover.org/en', 'title': 'ESA WorldCover 10m v100', 'sample': 'https://mw1.google.com/ges/dd/images/ESA_WorldCover_v100_sample.png', 'tags': ['esa', 'landcover', 'landuse', 'sentinel1-derived', 'sentinel2-derived'], 'provider': 'ESA/VITO/Brockmann Consult/CS/GAMMA Remote Sensing/IIASA/WUR', 'visualization_0_name': 'Landcover', 'visualization_0_bands': 'Map'}, 'features': [{'type': 'Image', 'bands': [{'id': 'Map', 'data_type': {'type': 'PixelType', 'precision': 'int', 'min': 0, 'max': 255}, 'dimensions': [4320000, 1728000], 'crs': 'EPSG:4326', 'crs_transform': [8.333333333333333e-05, 0, -180, 0, -8.333333333333333e-05, 84]}], 'version': 1668606593514996, 'id': 'ESA/WorldCover/v100/2020', 'properties': {'system:time_start': 1577836800000, 'Map_class_names': ['Tree cover', 'Shrubland', 'Grassland', 'Cropland', 'Built-up', 'Bare / sparse vegetation', 'Snow and ice', 'Permanent water bodies', 'Herbaceous wetland', 'Mangroves', 'Moss and lichen'], 'system:footprint': {'type': 'LinearRing', 'coordinates': [[-180, -90], [180, -90], [180, 90], [-180, 90], [-180, -90]]}, 'system:time_end': 1609459200000, 'Map_class_palette': ['006400', 'ffbb22', 'ffff4c', 'f096ff', 'fa0000', 'b4b4b4', 'f0f0f0', '0064c8', '0096a0', '00cf75', 'fae6a0'], 'Map_class_values': [10, 20, 30, 40, 50, 60, 70, 80, 90, 95, 100], 'system:asset_size': 109355097577, 'system:index': '2020'}}]}\n"
     ]
    }
   ],
   "source": [
    "print(dataset)\n",
    "print(dataset.getInfo())"
   ],
   "metadata": {
    "collapsed": false
   }
  },
  {
   "cell_type": "code",
   "execution_count": null,
   "outputs": [],
   "source": [],
   "metadata": {
    "collapsed": false
   }
  }
 ]
}
